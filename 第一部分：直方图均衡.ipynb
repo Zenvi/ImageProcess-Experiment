{
 "cells": [
  {
   "cell_type": "markdown",
   "id": "ff7562c4",
   "metadata": {},
   "source": [
    "# 实验一：图像处理"
   ]
  },
  {
   "cell_type": "markdown",
   "id": "d011c95e",
   "metadata": {},
   "source": [
    "## 第一部分：直方图均衡"
   ]
  },
  {
   "cell_type": "markdown",
   "id": "70340b0c",
   "metadata": {},
   "source": [
    "### 实验内容：编写并验证直方图均衡算法的代码"
   ]
  },
  {
   "cell_type": "markdown",
   "id": "b9eb962c",
   "metadata": {},
   "source": [
    "### 实验步骤：\n",
    "#### 第一步：打开`HistogramEqualization.py`，编写`Equalization_Histogram()`函数并测试函数能否顺利运行\n",
    "#### 第二步：测试通过后，可以将你的`Equalization_Histogram()`函数的运行结果与`cv2.equalizeHist()`函数的运行结果做比较，如果差别极小，则说明你的函数是正确的\n",
    "#### 第三步：下方代码调用了你刚刚编写的`Equalization_Histogram()`函数，修改下方代码，获得任意三张来自`./png_files/1`文件夹中的人脸图片的直方图均衡效果、以及均衡前后的直方图，并将相应的图片填入实验报告中去\n",
    "#### 注意：\n",
    "1. 生成直方图前，请修改`plt.title('fill in your student number')`，使得直方图的标题为你小组两名成员的学号\n",
    "2. `Equalization_Histogram()`函数不可套用`cv2.equalizeHist()`函数，如果套用，会损失相应实验分数\n",
    "3. 可以上网搜索代码，但是不可以抄袭他组代码\n",
    "4. 需要上交的文件：实验报告+`HistogramEqualization.py`；该notebook不用上交\n",
    "5. 评分细则详见评分标准文档"
   ]
  },
  {
   "cell_type": "code",
   "execution_count": null,
   "id": "9f7fa0e0",
   "metadata": {},
   "outputs": [],
   "source": [
    "import numpy as np\n",
    "import cv2\n",
    "import os\n",
    "import matplotlib.pyplot as plt\n",
    "\n",
    "from HistogramEqualization import Equalization_Histogram\n",
    "\n",
    "# 直方图计算函数\n",
    "def GetHist(img):\n",
    "    img = img.flatten()\n",
    "    img = img.tolist()\n",
    "    hist = []\n",
    "    for i in range(0,256):\n",
    "        hist.append(img.count(i))\n",
    "    return hist\n",
    "\n",
    "image_path = './png_files/1/FILE10.png'   # 待读图片的相对路径\n",
    "cv2.namedWindow(\"Original Image\", 0)   # 使用cv2打开一个用于显示图片的窗口（仅仅打开，还未显示），窗口的名字叫\"Original Image\"，0代表没有固定size\n",
    "cv2.namedWindow(\"Hist-Equalized Image\", 0)\n",
    "\n",
    "image = cv2.imread(image_path, 0)   # 将图片读入内存，参数0代表读入图片并将图片转换为单通道图片\n",
    "image_hist = GetHist(image)   # 使用自己写的函数来计算一下图片的直方图\n",
    "\n",
    "# 直方图均衡\n",
    "equ = Equalization_Histogram(image)\n",
    "equ_hist = GetHist(equ)\n",
    "\n",
    "plt.figure(figsize=(10, 3))\n",
    "plt.subplot(121)\n",
    "plt.bar(x=range(0, 256), height=image_hist, width=0.5)\n",
    "plt.title('fill in your student number')   # 更改这一行，使得稍后在显示你的直方图时，图片的标题会变成你的学号\n",
    "\n",
    "plt.subplot(122)\n",
    "plt.bar(x=range(0, 256), height=equ_hist, width=0.5)\n",
    "plt.title('fill in your student number')   # 更改这一行，使得稍后在显示你的直方图时，图片的标题会变成你组员的学号\n",
    "plt.show()\n",
    "\n",
    "cv2.imshow(\"Original Image\", image)\n",
    "cv2.imshow(\"Hist-Equalized Image\", equ)   # 分别显示图片到相应的窗口中去\n",
    "\n",
    "cv2.waitKey(0)\n",
    "\n",
    "cv2.destroyAllWindows()"
   ]
  },
  {
   "cell_type": "markdown",
   "id": "def33f4c",
   "metadata": {},
   "source": [
    "### `Equalization_Histogram()`编程提示\n",
    "\n",
    "#### 1. 已知直方图均衡的公式如下（其中，$D_B$为转换后的灰度，$D_A$为原图像灰度，$D_m$为灰度级，$A_0$为图像像素总数，$H_A(D_A)$为$D_A$灰度所对应的像素点个数）"
   ]
  },
  {
   "attachments": {
    "he.png": {
     "image/png": "[encoded data removed]"
    }
   },
   "cell_type": "markdown",
   "id": "6aaeb60a",
   "metadata": {},
   "source": [
    "![he.png](attachment:he.png)"
   ]
  },
  {
   "cell_type": "markdown",
   "id": "e2a4df98",
   "metadata": {},
   "source": [
    "#### 2. 假设原图像尺寸为32×32，$D_m = 256$，$H_A(0) = 100$，$H_A(1) = 150$那么：\n",
    "\n",
    "①. 当$D_A = 0$时，$D_B = 256 * \\frac{H_A(0)}{图像宽*图像高} = 256 * \\frac{100}{1024} = 25 $\n",
    "\n",
    "②. 当$D_A = 1$时，$D_B = 256 * (\\frac{H_A(0)}{图像宽*图像高} + \\frac{H_A(1)}{图像宽*图像高}) = 256 * (\\frac{100}{1024} + \\frac{150}{1024}) = 62.5 $\n",
    "\n",
    "③. ......\n",
    "\n",
    "也就是说，原始图像中所有灰度值为0的像素点，经过直方图均衡后，灰度值会变为25；原始图像中所有灰度值为1的像素点，经过直方图均衡后，灰度值会变为62（向下取整）\n"
   ]
  },
  {
   "cell_type": "markdown",
   "id": "5089eb30",
   "metadata": {},
   "source": [
    "#### 3. 不知道怎么获得一张图像的宽和高？"
   ]
  },
  {
   "cell_type": "code",
   "execution_count": 4,
   "id": "76280885",
   "metadata": {},
   "outputs": [
    {
     "name": "stdout",
     "output_type": "stream",
     "text": [
      "(384, 384)\n"
     ]
    }
   ],
   "source": [
    "import cv2\n",
    "\n",
    "image_path = './png_files/1/FILE10.png'\n",
    "image = cv2.imread(image_path, 0)\n",
    "\n",
    "print(image.shape[0:2])"
   ]
  },
  {
   "cell_type": "markdown",
   "id": "1b14fff9",
   "metadata": {},
   "source": [
    "#### 4. 不知道怎么创建一幅和原图像尺寸一模一样的空图像？ "
   ]
  },
  {
   "cell_type": "code",
   "execution_count": 6,
   "id": "1022512e",
   "metadata": {},
   "outputs": [
    {
     "name": "stdout",
     "output_type": "stream",
     "text": [
      "(384, 384)\n"
     ]
    }
   ],
   "source": [
    "import cv2\n",
    "import numpy as np\n",
    "\n",
    "image_path = './png_files/1/FILE10.png'\n",
    "image = cv2.imread(image_path, 0)\n",
    "\n",
    "new_img = np.zeros(shape=(image.shape[0], image.shape[1]), dtype=np.uint8)\n",
    "print(new_img.shape)"
   ]
  }
 ],
 "metadata": {
  "kernelspec": {
   "display_name": "Python 3",
   "language": "python",
   "name": "python3"
  },
  "language_info": {
   "codemirror_mode": {
    "name": "ipython",
    "version": 3
   },
   "file_extension": ".py",
   "mimetype": "text/x-python",
   "name": "python",
   "nbconvert_exporter": "python",
   "pygments_lexer": "ipython3",
   "version": "3.8.11"
  }
 },
 "nbformat": 4,
 "nbformat_minor": 5
}
