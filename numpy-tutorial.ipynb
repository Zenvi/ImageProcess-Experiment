{
 "cells": [
  {
   "cell_type": "markdown",
   "id": "ac5353a5",
   "metadata": {},
   "source": [
    "# Numpy练习"
   ]
  },
  {
   "cell_type": "code",
   "execution_count": 1,
   "id": "1b158a6e",
   "metadata": {},
   "outputs": [],
   "source": [
    "import numpy as np"
   ]
  },
  {
   "cell_type": "markdown",
   "id": "fe98245a",
   "metadata": {},
   "source": [
    "## 1. 创建矩阵"
   ]
  },
  {
   "cell_type": "code",
   "execution_count": 2,
   "id": "6cf925c8",
   "metadata": {},
   "outputs": [
    {
     "name": "stdout",
     "output_type": "stream",
     "text": [
      "[[1 2 3]\n",
      " [4 5 6]\n",
      " [7 8 9]]\n"
     ]
    }
   ],
   "source": [
    "# 直接把python的组合数据类型变成numpy的ndarray类型\n",
    "ls = [[1,2,3],\n",
    "      [4,5,6],\n",
    "      [7,8,9]]\n",
    "array = np.array(ls)\n",
    "print(array)"
   ]
  },
  {
   "cell_type": "code",
   "execution_count": 3,
   "id": "0f529dd2",
   "metadata": {},
   "outputs": [
    {
     "name": "stdout",
     "output_type": "stream",
     "text": [
      "[[0. 0. 0. 0. 0.]\n",
      " [0. 0. 0. 0. 0.]\n",
      " [0. 0. 0. 0. 0.]]\n"
     ]
    }
   ],
   "source": [
    "# 创建全零矩阵\n",
    "zeros = np.zeros(shape=(3, 5))\n",
    "print(zeros)"
   ]
  },
  {
   "cell_type": "code",
   "execution_count": 4,
   "id": "a4f61c0f",
   "metadata": {},
   "outputs": [
    {
     "name": "stdout",
     "output_type": "stream",
     "text": [
      "[[[1. 1. 1. 1. 1.]\n",
      "  [1. 1. 1. 1. 1.]\n",
      "  [1. 1. 1. 1. 1.]]]\n",
      "[[1. 1. 1. 1. 1.]\n",
      " [1. 1. 1. 1. 1.]\n",
      " [1. 1. 1. 1. 1.]]\n"
     ]
    }
   ],
   "source": [
    "# 创建全1矩阵\n",
    "ones = np.ones(shape=(1,3,5))\n",
    "print(ones)\n",
    "ones = np.squeeze(ones)\n",
    "print(ones)"
   ]
  },
  {
   "cell_type": "markdown",
   "id": "5c7e4bef",
   "metadata": {},
   "source": [
    "## 2. 获得矩阵的形状"
   ]
  },
  {
   "cell_type": "code",
   "execution_count": 5,
   "id": "22a7671d",
   "metadata": {},
   "outputs": [
    {
     "name": "stdout",
     "output_type": "stream",
     "text": [
      "[[[ 0  1  2  3  4  5  6  7  8  9]\n",
      "  [10 11 12 13 14 15 16 17 18 19]\n",
      "  [20 21 22 23 24 25 26 27 28 29]]\n",
      "\n",
      " [[30 31 32 33 34 35 36 37 38 39]\n",
      "  [40 41 42 43 44 45 46 47 48 49]\n",
      "  [50 51 52 53 54 55 56 57 58 59]]\n",
      "\n",
      " [[60 61 62 63 64 65 66 67 68 69]\n",
      "  [70 71 72 73 74 75 76 77 78 79]\n",
      "  [80 81 82 83 84 85 86 87 88 89]]]\n",
      "(3, 3, 10)\n"
     ]
    }
   ],
   "source": [
    "aranged = np.arange(90).reshape(3,3,10)\n",
    "print(aranged)\n",
    "print(aranged.shape)"
   ]
  },
  {
   "cell_type": "code",
   "execution_count": 6,
   "id": "43b70042",
   "metadata": {},
   "outputs": [
    {
     "name": "stdout",
     "output_type": "stream",
     "text": [
      "[ 0  1  2  3  4  5  6  7  8  9 10 11 12 13 14 15 16 17 18 19 20 21 22 23\n",
      " 24 25 26 27 28 29 30 31 32 33 34 35 36 37 38 39 40 41 42 43 44 45 46 47\n",
      " 48 49 50 51 52 53 54 55 56 57 58 59 60 61 62 63 64 65 66 67 68 69 70 71\n",
      " 72 73 74 75 76 77 78 79 80 81 82 83 84 85 86 87 88 89]\n",
      "(90,)\n"
     ]
    }
   ],
   "source": [
    "print(aranged.flatten())\n",
    "print(aranged.flatten().shape)"
   ]
  },
  {
   "cell_type": "markdown",
   "id": "8aa03fa1",
   "metadata": {},
   "source": [
    "## 3. ndarray转换成列表类型"
   ]
  },
  {
   "cell_type": "code",
   "execution_count": 7,
   "id": "7027f598",
   "metadata": {},
   "outputs": [
    {
     "name": "stdout",
     "output_type": "stream",
     "text": [
      "[[1, 2, 3], [4, 5, 6], [7, 8, 9]]\n"
     ]
    }
   ],
   "source": [
    "ls = [[1,2,3],\n",
    "      [4,5,6],\n",
    "      [7,8,9]]\n",
    "array = np.array(ls)\n",
    "print(array.tolist())"
   ]
  },
  {
   "cell_type": "code",
   "execution_count": 8,
   "id": "cbf23103",
   "metadata": {},
   "outputs": [
    {
     "name": "stdout",
     "output_type": "stream",
     "text": [
      "[1, 2, 3, 4, 5, 6, 7, 8, 9]\n"
     ]
    }
   ],
   "source": [
    "print(array.flatten().tolist())"
   ]
  },
  {
   "cell_type": "markdown",
   "id": "0fbe46d2",
   "metadata": {},
   "source": [
    "#### 在编程时注意你所操作的数据的类型，ndarray和list之间无法直接运算"
   ]
  },
  {
   "cell_type": "markdown",
   "id": "ed296768",
   "metadata": {},
   "source": [
    "## 4. numpy的ndarray和python的列表有什么区别？"
   ]
  },
  {
   "cell_type": "code",
   "execution_count": 9,
   "id": "04429076",
   "metadata": {},
   "outputs": [
    {
     "name": "stdout",
     "output_type": "stream",
     "text": [
      "array1 + array2 = \n",
      " [[4 4 4]\n",
      " [4 4 4]\n",
      " [4 4 4]]\n",
      "array1 - array2 = \n",
      " [[-2  0  2]\n",
      " [-2  0  2]\n",
      " [-2  0  2]]\n",
      "array_diff_squared ** 2 = \n",
      " [[4 0 4]\n",
      " [4 0 4]\n",
      " [4 0 4]]\n",
      "sqrt(array_diff_squared) = \n",
      " [[2. 0. 2.]\n",
      " [2. 0. 2.]\n",
      " [2. 0. 2.]]\n",
      "sum(array_diff_squared_sqrted) = \n",
      " 12.0\n"
     ]
    }
   ],
   "source": [
    "# ndarray\n",
    "array1 = np.array([[1,2,3],\n",
    "                   [1,2,3],\n",
    "                   [1,2,3]])\n",
    "\n",
    "array2 = np.array([[3,2,1],\n",
    "                   [3,2,1],\n",
    "                   [3,2,1]])\n",
    "\n",
    "array_sum = array1 + array2\n",
    "print('array1 + array2 = \\n', array_sum)\n",
    "\n",
    "array_diff = array1 - array2\n",
    "print('array1 - array2 = \\n', array_diff)\n",
    "\n",
    "array_diff_squared = array_diff ** 2\n",
    "print('array_diff_squared ** 2 = \\n', array_diff_squared)\n",
    "\n",
    "array_diff_squared_sqrted = np.sqrt(array_diff_squared)\n",
    "print('sqrt(array_diff_squared) = \\n', array_diff_squared_sqrted)\n",
    "\n",
    "array_diff_squared_sqrted_sumed = np.sum(array_diff_squared_sqrted)\n",
    "print('sum(array_diff_squared_sqrted) = \\n', array_diff_squared_sqrted_sumed)"
   ]
  },
  {
   "cell_type": "code",
   "execution_count": 10,
   "id": "4a4433c5",
   "metadata": {},
   "outputs": [
    {
     "name": "stdout",
     "output_type": "stream",
     "text": [
      "[[1, 2, 3], [1, 2, 3], [1, 2, 3], [3, 2, 1], [3, 2, 1], [3, 2, 1]]\n"
     ]
    },
    {
     "ename": "TypeError",
     "evalue": "unsupported operand type(s) for ** or pow(): 'list' and 'int'",
     "output_type": "error",
     "traceback": [
      "\u001b[1;31m---------------------------------------------------------------------------\u001b[0m",
      "\u001b[1;31mTypeError\u001b[0m                                 Traceback (most recent call last)",
      "\u001b[1;32m<ipython-input-10-5bfcd0954df7>\u001b[0m in \u001b[0;36m<module>\u001b[1;34m\u001b[0m\n\u001b[0;32m     10\u001b[0m \u001b[0mprint\u001b[0m\u001b[1;33m(\u001b[0m\u001b[0mls1\u001b[0m \u001b[1;33m+\u001b[0m \u001b[0mls2\u001b[0m\u001b[1;33m)\u001b[0m\u001b[1;33m\u001b[0m\u001b[1;33m\u001b[0m\u001b[0m\n\u001b[0;32m     11\u001b[0m \u001b[1;33m\u001b[0m\u001b[0m\n\u001b[1;32m---> 12\u001b[1;33m \u001b[0mprint\u001b[0m\u001b[1;33m(\u001b[0m\u001b[0mls1\u001b[0m \u001b[1;33m**\u001b[0m \u001b[1;36m2\u001b[0m\u001b[1;33m)\u001b[0m\u001b[1;33m\u001b[0m\u001b[1;33m\u001b[0m\u001b[0m\n\u001b[0m",
      "\u001b[1;31mTypeError\u001b[0m: unsupported operand type(s) for ** or pow(): 'list' and 'int'"
     ]
    }
   ],
   "source": [
    "# list\n",
    "ls1 = [[1,2,3],\n",
    "       [1,2,3],\n",
    "       [1,2,3]]\n",
    "\n",
    "ls2 = [[3,2,1],\n",
    "       [3,2,1],\n",
    "       [3,2,1]]\n",
    "\n",
    "print(ls1 + ls2)\n",
    "\n",
    "print(ls1 ** 2)"
   ]
  },
  {
   "cell_type": "markdown",
   "id": "d74d62bb",
   "metadata": {},
   "source": [
    "以上内容可基本支撑该课程实验\n",
    "\n",
    "更多教程详见网页：https://www.numpy.org.cn/user/quickstart.html"
   ]
  }
 ],
 "metadata": {
  "kernelspec": {
   "display_name": "Python 3",
   "language": "python",
   "name": "python3"
  },
  "language_info": {
   "codemirror_mode": {
    "name": "ipython",
    "version": 3
   },
   "file_extension": ".py",
   "mimetype": "text/x-python",
   "name": "python",
   "nbconvert_exporter": "python",
   "pygments_lexer": "ipython3",
   "version": "3.8.11"
  }
 },
 "nbformat": 4,
 "nbformat_minor": 5
}
