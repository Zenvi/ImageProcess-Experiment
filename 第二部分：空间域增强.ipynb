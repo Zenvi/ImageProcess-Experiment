{
 "cells": [
  {
   "cell_type": "markdown",
   "id": "da01c6ad",
   "metadata": {},
   "source": [
    "# 实验一：图像处理"
   ]
  },
  {
   "cell_type": "markdown",
   "id": "4abbb79d",
   "metadata": {},
   "source": [
    "## 第二部分：均值滤波 & 高斯滤波 & 中值滤波"
   ]
  },
  {
   "cell_type": "markdown",
   "id": "2b8deefd",
   "metadata": {},
   "source": [
    "### 实验内容：使用opencv-python的库函数 `cv2.blur()` & `cv2.GaussianBlur()` & `cv2.medianBlur()` 来验证 均值滤波 & 高斯滤波 & 中值滤波的滤波效果"
   ]
  },
  {
   "cell_type": "markdown",
   "id": "f1051b99",
   "metadata": {},
   "source": [
    "### 实验数据\n",
    "+ 来自于文件夹`./png_files/2`\n",
    "+ 其中：`original.png`为原图，其余所有图片都是被噪声污染了的图片"
   ]
  },
  {
   "cell_type": "markdown",
   "id": "01f55dbb",
   "metadata": {},
   "source": [
    "### 实验步骤"
   ]
  },
  {
   "cell_type": "markdown",
   "id": "aba138a1",
   "metadata": {},
   "source": [
    "#### 1. 熟悉 `cv2.blur()` & `cv2.GaussianBlur()` & `cv2.medianBlur()` 三个函数的用法"
   ]
  },
  {
   "cell_type": "code",
   "execution_count": 1,
   "id": "e42ed559",
   "metadata": {},
   "outputs": [],
   "source": [
    "import cv2\n",
    "\n",
    "# 均值滤波 & 高斯滤波 & 中值滤波\n",
    "image_path = './png_files/2/Pulse_Noised_Image.png'\n",
    "cv2.namedWindow(\"Before filtering\", 0)\n",
    "cv2.namedWindow(\"Mean filtered\", 0)\n",
    "cv2.namedWindow(\"Gaussian filtered\", 0)\n",
    "cv2.namedWindow(\"Median filtered\", 0)\n",
    "\n",
    "image = cv2.imread(image_path, 0)\n",
    "\n",
    "image_mean_filtered = cv2.blur(image, (3,3))   # 均值滤波，(3,3)代表滤波器/卷积核大小\n",
    "image_gaussian_filtered = cv2.GaussianBlur(image, (3,3), 0)   # 高斯滤波，(3,3)代表滤波器/卷积核大小，0代表x方向和y方向的标准差为0\n",
    "image_median_filtered = cv2.medianBlur(image, 3)   # 中值滤波，(3,3)代表滤波器大小\n",
    "\n",
    "cv2.imshow(\"Before filtering\", image)\n",
    "cv2.imshow(\"Mean filtered\", image_mean_filtered)\n",
    "cv2.imshow(\"Gaussian filtered\", image_gaussian_filtered)\n",
    "cv2.imshow(\"Median filtered\", image_median_filtered)\n",
    "\n",
    "cv2.waitKey(0)\n",
    "cv2.destroyAllWindows()"
   ]
  },
  {
   "cell_type": "markdown",
   "id": "867bffb9",
   "metadata": {},
   "source": [
    "#### 2. 针对每一张加入了噪声的图片，使用一种评价方法找出对最适合的滤波手段\n",
    "\n",
    "#### `FilterAndAssess.py`中给出了一种较简单的评价方法\n",
    "\n",
    "#### 下面你需要找到一种别的评价方法，或是针对`FilterAndAssess.py`改进过的评价方法，进而针对每一张图片，得出每一种滤波器的滤波效果"
   ]
  },
  {
   "cell_type": "markdown",
   "id": "8bf8dbd8",
   "metadata": {},
   "source": [
    "### 实验上交内容\n",
    "1. 实验报告（具体要求见实验报告模板）\n",
    "2. `FilterAndAssess.py`（要求将`calculate_diff(ori_img, noisy_img)`函数变为自己的评价方法函数，可套用其它库的库函数）\n",
    "\n",
    "#### 注：\n",
    "\n",
    "*评分细则详见评分标准文档"
   ]
  }
 ],
 "metadata": {
  "kernelspec": {
   "display_name": "Python 3",
   "language": "python",
   "name": "python3"
  },
  "language_info": {
   "codemirror_mode": {
    "name": "ipython",
    "version": 3
   },
   "file_extension": ".py",
   "mimetype": "text/x-python",
   "name": "python",
   "nbconvert_exporter": "python",
   "pygments_lexer": "ipython3",
   "version": "3.8.11"
  }
 },
 "nbformat": 4,
 "nbformat_minor": 5
}
