{
 "cells": [
  {
   "cell_type": "code",
   "execution_count": null,
   "id": "9ceea29a",
   "metadata": {},
   "outputs": [],
   "source": [
    "# 安装opencv-python\n",
    "!pip install opencv-python"
   ]
  },
  {
   "cell_type": "code",
   "execution_count": 1,
   "id": "d9945dd4",
   "metadata": {},
   "outputs": [],
   "source": [
    "import cv2\n",
    "import os\n",
    "import numpy as np\n",
    "import matplotlib.pyplot as plt"
   ]
  },
  {
   "cell_type": "markdown",
   "id": "ede832eb",
   "metadata": {},
   "source": [
    "### 图片的读取与显示"
   ]
  },
  {
   "cell_type": "code",
   "execution_count": null,
   "id": "8a6c92de",
   "metadata": {},
   "outputs": [],
   "source": [
    "image_dir = './png_files/0-3/'  # 存储着实验用图的根目录\n",
    "cv2.namedWindow(\"PNG Pictures\", 0)   # 打开一个可以自由调节大小的cv2窗口，稍后用作显示图片\n",
    "\n",
    "for image_name in os.listdir(image_dir):   # os.listdir()可以列出在image_dir下所有文件的名字\n",
    "    \n",
    "    if not image_name.endswith('.png'):   # 如果取到的文件名不是以'.png'为结尾的，则跳过这次循环，也就是说我们不显示'.png'以外的图像\n",
    "        continue\n",
    "    \n",
    "    image_path = os.path.join( image_dir, image_name )   # 使用os.path.join()可以将两个路径真正地拼接在一起\n",
    "    image = cv2.imread(image_path, 0)   # 使用cv2.imread()将图片读入，输入是图片的相对路径，第二个参数0代表读入时，为单通道模式\n",
    "    \n",
    "    cv2.imshow(\"PNG Pictures\", image)   # 展示图片\n",
    "    cv2.waitKey(0)   # cv2.imshow()要搭配cv2.waitKey()使用，其中cv2.waitKey()的入参取决于我们的图片可以展示多久，为0的话代表无限，可按任意键跳出cv2.waitKey(0)\n",
    "cv2.destroyAllWindows()"
   ]
  },
  {
   "cell_type": "markdown",
   "id": "185d5b7e",
   "metadata": {},
   "source": [
    "### 图片的直方图计算 & 直方图均衡"
   ]
  },
  {
   "cell_type": "code",
   "execution_count": null,
   "id": "03fe5846",
   "metadata": {},
   "outputs": [
    {
     "data": {
      "text/plain": [
       "<Figure size 640x480 with 0 Axes>"
      ]
     },
     "metadata": {},
     "output_type": "display_data"
    },
    {
     "data": {
      "image/png": "[encoded data removed]",
      "text/plain": [
       "<Figure size 1000x300 with 2 Axes>"
      ]
     },
     "metadata": {},
     "output_type": "display_data"
    }
   ],
   "source": [
    "# 直方图计算函数\n",
    "def GetHist(img):\n",
    "    img = img.flatten()\n",
    "    img = img.tolist()\n",
    "    hist = []\n",
    "    for i in range(0,256):\n",
    "        hist.append(img.count(i))\n",
    "    return hist\n",
    "\n",
    "# 直方图均衡\n",
    "image_path = './png_files/2/Pulse_Noised_Image.png'\n",
    "cv2.namedWindow(\"Hist-Equalized Pictures\", 0)\n",
    "\n",
    "\n",
    "    \n",
    "plt.clf()\n",
    "\n",
    "\n",
    "image = cv2.imread(image_path, 0)\n",
    "image_hist = GetHist(image)\n",
    "\n",
    "equ = cv2.equalizeHist(image)\n",
    "equ_hist = GetHist(equ)\n",
    "\n",
    "plt.figure(figsize=(10, 3))\n",
    "plt.subplot(121)\n",
    "plt.bar(x=range(0, 256), height=image_hist, width=0.5)\n",
    "plt.title('fill in your student number')\n",
    "plt.subplot(122)\n",
    "plt.bar(x=range(0, 256), height=equ_hist, width=0.5)\n",
    "plt.title('fill in your student number')\n",
    "plt.show()\n",
    "\n",
    "cv2.imshow(\"Hist-Equalized Pictures\", equ)\n",
    "\n",
    "cv2.waitKey(0)\n",
    "\n",
    "plt.ioff()\n",
    "\n",
    "cv2.destroyAllWindows()"
   ]
  },
  {
   "cell_type": "markdown",
   "id": "a2c94b8f",
   "metadata": {},
   "source": [
    "### 均值滤波 & 高斯滤波 & 中值滤波"
   ]
  },
  {
   "cell_type": "code",
   "execution_count": null,
   "id": "d17d3b88",
   "metadata": {},
   "outputs": [],
   "source": [
    "# 均值滤波 & 高斯滤波 & 中值滤波\n",
    "image_dir = './png_files/4/'\n",
    "cv2.namedWindow(\"Mean filtered\", 0)\n",
    "cv2.namedWindow(\"Gaussian filtered\", 0)\n",
    "cv2.namedWindow(\"Median filtered\", 0)\n",
    "\n",
    "image_name = os.listdir(image_dir)[0]\n",
    "image_path = os.path.join(image_dir, image_name)\n",
    "\n",
    "image = cv2.imread(image_path, 0)\n",
    "\n",
    "image_mean_filtered = cv2.blur(image, (3,3))\n",
    "image_gaussian_filtered = cv2.GaussianBlur(image, (3,3), 0)\n",
    "image_median_filtered = cv2.medianBlur(image, 5)\n",
    "\n",
    "cv2.imshow(\"Mean filtered\", image_mean_filtered)\n",
    "cv2.imshow(\"Gaussian filtered\", image_gaussian_filtered)\n",
    "cv2.imshow(\"Median filtered\", image_median_filtered)\n",
    "\n",
    "cv2.waitKey(0)\n",
    "cv2.destroyAllWindows()"
   ]
  },
  {
   "cell_type": "markdown",
   "id": "eb1b5cd3",
   "metadata": {},
   "source": [
    "### 边缘提取：sobel & laplacian 算子"
   ]
  },
  {
   "cell_type": "code",
   "execution_count": 5,
   "id": "b0ff65b3",
   "metadata": {},
   "outputs": [],
   "source": [
    "# sobel\n",
    "image_dir = './png_files/4/'\n",
    "\n",
    "cv2.namedWindow(\"original\", 0)\n",
    "cv2.namedWindow(\"sobel x\", 0)\n",
    "cv2.namedWindow(\"sobel y\", 0)\n",
    "\n",
    "image_name = os.listdir(image_dir)[0]\n",
    "image_path = os.path.join(image_dir, image_name)\n",
    "\n",
    "image = cv2.imread(image_path, 0)\n",
    "\n",
    "x = cv2.Sobel(image, -1, 1, 0)\n",
    "y = cv2.Sobel(image, -1, 0, 1)\n",
    "\n",
    "absx = cv2.convertScaleAbs(x)\n",
    "absy = cv2.convertScaleAbs(y)\n",
    "\n",
    "cv2.imshow(\"original\", image)\n",
    "cv2.imshow(\"sobel x\", absx)\n",
    "cv2.imshow(\"sobel y\", absy)\n",
    "\n",
    "cv2.waitKey(0)\n",
    "cv2.destroyAllWindows()"
   ]
  },
  {
   "cell_type": "code",
   "execution_count": 6,
   "id": "c274fcc7",
   "metadata": {},
   "outputs": [],
   "source": [
    "# laplacian\n",
    "image_dir = './png_files/4/'\n",
    "\n",
    "cv2.namedWindow(\"original\", 0)\n",
    "cv2.namedWindow(\"laplacian\", 0)\n",
    "\n",
    "image_name = os.listdir(image_dir)[0]\n",
    "image_path = os.path.join(image_dir, image_name)\n",
    "\n",
    "image = cv2.imread(image_path, 0)\n",
    "\n",
    "laplacian = cv2.Laplacian(image, -1, ksize = 3)\n",
    "dst = cv2.convertScaleAbs(laplacian)\n",
    "\n",
    "cv2.imshow(\"original\", image)\n",
    "cv2.imshow(\"laplacian\", laplacian)\n",
    "\n",
    "cv2.waitKey(0)\n",
    "cv2.destroyAllWindows()"
   ]
  },
  {
   "cell_type": "markdown",
   "id": "e441024b",
   "metadata": {},
   "source": [
    "### 形态学腐蚀 & 形态学膨胀"
   ]
  },
  {
   "cell_type": "code",
   "execution_count": 2,
   "id": "0c634238",
   "metadata": {},
   "outputs": [],
   "source": [
    "# 形态学腐蚀\n",
    "image_path = './png_files/3/1.png'\n",
    "\n",
    "cv2.namedWindow(\"original\", 0)\n",
    "cv2.namedWindow(\"eroded\", 0)\n",
    "\n",
    "image = cv2.imread(image_path, 0)\n",
    "\n",
    "kernel = np.ones((3,3),np.uint8) \n",
    "\n",
    "erosion = cv2.erode(image, kernel, iterations = 1)   #iteration的值越高，模糊程度(腐蚀程度)就越高 呈正相关关系且只能是整数\n",
    "\n",
    "cv2.imshow(\"original\", image)\n",
    "cv2.imshow(\"eroded\", erosion)\n",
    "\n",
    "cv2.waitKey(0)\n",
    "cv2.destroyAllWindows()"
   ]
  },
  {
   "cell_type": "code",
   "execution_count": 10,
   "id": "2d56117e",
   "metadata": {},
   "outputs": [],
   "source": [
    "# 形态学膨胀\n",
    "image_path = './png_files/5/1.png'\n",
    "\n",
    "cv2.namedWindow(\"original\", 0)\n",
    "cv2.namedWindow(\"dilated\", 0)\n",
    "\n",
    "image = cv2.imread(image_path, 0)\n",
    "\n",
    "kernel = np.ones((3,3),np.uint8) \n",
    "\n",
    "dilate = cv2.dilate(image, kernel, iterations=1)  \n",
    "\n",
    "cv2.imshow(\"original\", image)\n",
    "cv2.imshow(\"dilated\", dilate)\n",
    "\n",
    "cv2.waitKey(0)\n",
    "cv2.destroyAllWindows()"
   ]
  },
  {
   "cell_type": "code",
   "execution_count": null,
   "id": "5bc529f6",
   "metadata": {},
   "outputs": [],
   "source": []
  }
 ],
 "metadata": {
  "kernelspec": {
   "display_name": "Python 3",
   "language": "python",
   "name": "python3"
  },
  "language_info": {
   "codemirror_mode": {
    "name": "ipython",
    "version": 3
   },
   "file_extension": ".py",
   "mimetype": "text/x-python",
   "name": "python",
   "nbconvert_exporter": "python",
   "pygments_lexer": "ipython3",
   "version": "3.8.11"
  }
 },
 "nbformat": 4,
 "nbformat_minor": 5
}
